{
 "cells": [
  {
   "cell_type": "code",
   "execution_count": 105,
   "id": "6e8a08f4-25e8-4e11-8241-bd9e9127d8ba",
   "metadata": {},
   "outputs": [],
   "source": [
    "# importing libraries"
   ]
  },
  {
   "cell_type": "code",
   "execution_count": 106,
   "id": "cbea8fef-6df0-4b2f-ac6a-bba42746e0d9",
   "metadata": {},
   "outputs": [],
   "source": [
    "import numpy as np\n",
    "import pandas as pd\n",
    "import matplotlib.pyplot as plt\n",
    "import seaborn as sns\n",
    "from sklearn.linear_model import LinearRegression\n",
    "from sklearn.linear_model import ElasticNet\n",
    "from sklearn.linear_model import Ridge\n",
    "from sklearn.linear_model import Lasso\n",
    "from statsmodels.stats.outliers_influence import variance_inflation_factor\n",
    "from sklearn.model_selection import train_test_split\n",
    "from sklearn.preprocessing import StandardScaler, MinMaxScaler\n",
    "from sklearn.ensemble import RandomForestRegressor\n",
    "from sklearn.metrics import mean_absolute_error,mean_squared_error,r2_score\n",
    "from yellowbrick.regressor import ResidualsPlot\n",
    "from sklearn.decomposition import PCA"
   ]
  },
  {
   "cell_type": "code",
   "execution_count": 107,
   "id": "19d041a0-cff2-4231-852d-09aec58b2e32",
   "metadata": {},
   "outputs": [],
   "source": [
    "# reading dataset into python environment"
   ]
  },
  {
   "cell_type": "code",
   "execution_count": 108,
   "id": "791a57ca-15a9-41b8-baa9-14feac9d1196",
   "metadata": {},
   "outputs": [
    {
     "data": {
      "text/html": [
       "<div>\n",
       "<style scoped>\n",
       "    .dataframe tbody tr th:only-of-type {\n",
       "        vertical-align: middle;\n",
       "    }\n",
       "\n",
       "    .dataframe tbody tr th {\n",
       "        vertical-align: top;\n",
       "    }\n",
       "\n",
       "    .dataframe thead th {\n",
       "        text-align: right;\n",
       "    }\n",
       "</style>\n",
       "<table border=\"1\" class=\"dataframe\">\n",
       "  <thead>\n",
       "    <tr style=\"text-align: right;\">\n",
       "      <th></th>\n",
       "      <th>date</th>\n",
       "      <th>quarter</th>\n",
       "      <th>department</th>\n",
       "      <th>day</th>\n",
       "      <th>team</th>\n",
       "      <th>targeted_productivity</th>\n",
       "      <th>smv</th>\n",
       "      <th>wip</th>\n",
       "      <th>over_time</th>\n",
       "      <th>incentive</th>\n",
       "      <th>idle_time</th>\n",
       "      <th>idle_men</th>\n",
       "      <th>no_of_style_change</th>\n",
       "      <th>no_of_workers</th>\n",
       "      <th>actual_productivity</th>\n",
       "    </tr>\n",
       "  </thead>\n",
       "  <tbody>\n",
       "    <tr>\n",
       "      <th>0</th>\n",
       "      <td>1/1/2015</td>\n",
       "      <td>Quarter1</td>\n",
       "      <td>sweing</td>\n",
       "      <td>Thursday</td>\n",
       "      <td>8</td>\n",
       "      <td>0.80</td>\n",
       "      <td>26.16</td>\n",
       "      <td>1108.0</td>\n",
       "      <td>7080</td>\n",
       "      <td>98</td>\n",
       "      <td>0.0</td>\n",
       "      <td>0</td>\n",
       "      <td>0</td>\n",
       "      <td>59.0</td>\n",
       "      <td>0.940725</td>\n",
       "    </tr>\n",
       "    <tr>\n",
       "      <th>1</th>\n",
       "      <td>1/1/2015</td>\n",
       "      <td>Quarter1</td>\n",
       "      <td>finishing</td>\n",
       "      <td>Thursday</td>\n",
       "      <td>1</td>\n",
       "      <td>0.75</td>\n",
       "      <td>3.94</td>\n",
       "      <td>NaN</td>\n",
       "      <td>960</td>\n",
       "      <td>0</td>\n",
       "      <td>0.0</td>\n",
       "      <td>0</td>\n",
       "      <td>0</td>\n",
       "      <td>8.0</td>\n",
       "      <td>0.886500</td>\n",
       "    </tr>\n",
       "    <tr>\n",
       "      <th>2</th>\n",
       "      <td>1/1/2015</td>\n",
       "      <td>Quarter1</td>\n",
       "      <td>sweing</td>\n",
       "      <td>Thursday</td>\n",
       "      <td>11</td>\n",
       "      <td>0.80</td>\n",
       "      <td>11.41</td>\n",
       "      <td>968.0</td>\n",
       "      <td>3660</td>\n",
       "      <td>50</td>\n",
       "      <td>0.0</td>\n",
       "      <td>0</td>\n",
       "      <td>0</td>\n",
       "      <td>30.5</td>\n",
       "      <td>0.800570</td>\n",
       "    </tr>\n",
       "    <tr>\n",
       "      <th>3</th>\n",
       "      <td>1/1/2015</td>\n",
       "      <td>Quarter1</td>\n",
       "      <td>sweing</td>\n",
       "      <td>Thursday</td>\n",
       "      <td>12</td>\n",
       "      <td>0.80</td>\n",
       "      <td>11.41</td>\n",
       "      <td>968.0</td>\n",
       "      <td>3660</td>\n",
       "      <td>50</td>\n",
       "      <td>0.0</td>\n",
       "      <td>0</td>\n",
       "      <td>0</td>\n",
       "      <td>30.5</td>\n",
       "      <td>0.800570</td>\n",
       "    </tr>\n",
       "    <tr>\n",
       "      <th>4</th>\n",
       "      <td>1/1/2015</td>\n",
       "      <td>Quarter1</td>\n",
       "      <td>sweing</td>\n",
       "      <td>Thursday</td>\n",
       "      <td>6</td>\n",
       "      <td>0.80</td>\n",
       "      <td>25.90</td>\n",
       "      <td>1170.0</td>\n",
       "      <td>1920</td>\n",
       "      <td>50</td>\n",
       "      <td>0.0</td>\n",
       "      <td>0</td>\n",
       "      <td>0</td>\n",
       "      <td>56.0</td>\n",
       "      <td>0.800382</td>\n",
       "    </tr>\n",
       "    <tr>\n",
       "      <th>...</th>\n",
       "      <td>...</td>\n",
       "      <td>...</td>\n",
       "      <td>...</td>\n",
       "      <td>...</td>\n",
       "      <td>...</td>\n",
       "      <td>...</td>\n",
       "      <td>...</td>\n",
       "      <td>...</td>\n",
       "      <td>...</td>\n",
       "      <td>...</td>\n",
       "      <td>...</td>\n",
       "      <td>...</td>\n",
       "      <td>...</td>\n",
       "      <td>...</td>\n",
       "      <td>...</td>\n",
       "    </tr>\n",
       "    <tr>\n",
       "      <th>1192</th>\n",
       "      <td>3/11/2015</td>\n",
       "      <td>Quarter2</td>\n",
       "      <td>finishing</td>\n",
       "      <td>Wednesday</td>\n",
       "      <td>10</td>\n",
       "      <td>0.75</td>\n",
       "      <td>2.90</td>\n",
       "      <td>NaN</td>\n",
       "      <td>960</td>\n",
       "      <td>0</td>\n",
       "      <td>0.0</td>\n",
       "      <td>0</td>\n",
       "      <td>0</td>\n",
       "      <td>8.0</td>\n",
       "      <td>0.628333</td>\n",
       "    </tr>\n",
       "    <tr>\n",
       "      <th>1193</th>\n",
       "      <td>3/11/2015</td>\n",
       "      <td>Quarter2</td>\n",
       "      <td>finishing</td>\n",
       "      <td>Wednesday</td>\n",
       "      <td>8</td>\n",
       "      <td>0.70</td>\n",
       "      <td>3.90</td>\n",
       "      <td>NaN</td>\n",
       "      <td>960</td>\n",
       "      <td>0</td>\n",
       "      <td>0.0</td>\n",
       "      <td>0</td>\n",
       "      <td>0</td>\n",
       "      <td>8.0</td>\n",
       "      <td>0.625625</td>\n",
       "    </tr>\n",
       "    <tr>\n",
       "      <th>1194</th>\n",
       "      <td>3/11/2015</td>\n",
       "      <td>Quarter2</td>\n",
       "      <td>finishing</td>\n",
       "      <td>Wednesday</td>\n",
       "      <td>7</td>\n",
       "      <td>0.65</td>\n",
       "      <td>3.90</td>\n",
       "      <td>NaN</td>\n",
       "      <td>960</td>\n",
       "      <td>0</td>\n",
       "      <td>0.0</td>\n",
       "      <td>0</td>\n",
       "      <td>0</td>\n",
       "      <td>8.0</td>\n",
       "      <td>0.625625</td>\n",
       "    </tr>\n",
       "    <tr>\n",
       "      <th>1195</th>\n",
       "      <td>3/11/2015</td>\n",
       "      <td>Quarter2</td>\n",
       "      <td>finishing</td>\n",
       "      <td>Wednesday</td>\n",
       "      <td>9</td>\n",
       "      <td>0.75</td>\n",
       "      <td>2.90</td>\n",
       "      <td>NaN</td>\n",
       "      <td>1800</td>\n",
       "      <td>0</td>\n",
       "      <td>0.0</td>\n",
       "      <td>0</td>\n",
       "      <td>0</td>\n",
       "      <td>15.0</td>\n",
       "      <td>0.505889</td>\n",
       "    </tr>\n",
       "    <tr>\n",
       "      <th>1196</th>\n",
       "      <td>3/11/2015</td>\n",
       "      <td>Quarter2</td>\n",
       "      <td>finishing</td>\n",
       "      <td>Wednesday</td>\n",
       "      <td>6</td>\n",
       "      <td>0.70</td>\n",
       "      <td>2.90</td>\n",
       "      <td>NaN</td>\n",
       "      <td>720</td>\n",
       "      <td>0</td>\n",
       "      <td>0.0</td>\n",
       "      <td>0</td>\n",
       "      <td>0</td>\n",
       "      <td>6.0</td>\n",
       "      <td>0.394722</td>\n",
       "    </tr>\n",
       "  </tbody>\n",
       "</table>\n",
       "<p>1197 rows × 15 columns</p>\n",
       "</div>"
      ],
      "text/plain": [
       "           date   quarter  department        day  team  targeted_productivity  \\\n",
       "0      1/1/2015  Quarter1      sweing   Thursday     8                   0.80   \n",
       "1      1/1/2015  Quarter1  finishing    Thursday     1                   0.75   \n",
       "2      1/1/2015  Quarter1      sweing   Thursday    11                   0.80   \n",
       "3      1/1/2015  Quarter1      sweing   Thursday    12                   0.80   \n",
       "4      1/1/2015  Quarter1      sweing   Thursday     6                   0.80   \n",
       "...         ...       ...         ...        ...   ...                    ...   \n",
       "1192  3/11/2015  Quarter2   finishing  Wednesday    10                   0.75   \n",
       "1193  3/11/2015  Quarter2   finishing  Wednesday     8                   0.70   \n",
       "1194  3/11/2015  Quarter2   finishing  Wednesday     7                   0.65   \n",
       "1195  3/11/2015  Quarter2   finishing  Wednesday     9                   0.75   \n",
       "1196  3/11/2015  Quarter2   finishing  Wednesday     6                   0.70   \n",
       "\n",
       "        smv     wip  over_time  incentive  idle_time  idle_men  \\\n",
       "0     26.16  1108.0       7080         98        0.0         0   \n",
       "1      3.94     NaN        960          0        0.0         0   \n",
       "2     11.41   968.0       3660         50        0.0         0   \n",
       "3     11.41   968.0       3660         50        0.0         0   \n",
       "4     25.90  1170.0       1920         50        0.0         0   \n",
       "...     ...     ...        ...        ...        ...       ...   \n",
       "1192   2.90     NaN        960          0        0.0         0   \n",
       "1193   3.90     NaN        960          0        0.0         0   \n",
       "1194   3.90     NaN        960          0        0.0         0   \n",
       "1195   2.90     NaN       1800          0        0.0         0   \n",
       "1196   2.90     NaN        720          0        0.0         0   \n",
       "\n",
       "      no_of_style_change  no_of_workers  actual_productivity  \n",
       "0                      0           59.0             0.940725  \n",
       "1                      0            8.0             0.886500  \n",
       "2                      0           30.5             0.800570  \n",
       "3                      0           30.5             0.800570  \n",
       "4                      0           56.0             0.800382  \n",
       "...                  ...            ...                  ...  \n",
       "1192                   0            8.0             0.628333  \n",
       "1193                   0            8.0             0.625625  \n",
       "1194                   0            8.0             0.625625  \n",
       "1195                   0           15.0             0.505889  \n",
       "1196                   0            6.0             0.394722  \n",
       "\n",
       "[1197 rows x 15 columns]"
      ]
     },
     "execution_count": 108,
     "metadata": {},
     "output_type": "execute_result"
    }
   ],
   "source": [
    "garment_dataset = pd.read_csv(\"garments_worker_productivity.csv\",sep =\",\")\n",
    "garment_dataset"
   ]
  },
  {
   "cell_type": "code",
   "execution_count": 109,
   "id": "a8e36993-146d-489d-8050-763a0f9ea74f",
   "metadata": {},
   "outputs": [
    {
     "data": {
      "text/plain": [
       "date                       0\n",
       "quarter                    0\n",
       "department                 0\n",
       "day                        0\n",
       "team                       0\n",
       "targeted_productivity      0\n",
       "smv                        0\n",
       "wip                      506\n",
       "over_time                  0\n",
       "incentive                  0\n",
       "idle_time                  0\n",
       "idle_men                   0\n",
       "no_of_style_change         0\n",
       "no_of_workers              0\n",
       "actual_productivity        0\n",
       "dtype: int64"
      ]
     },
     "execution_count": 109,
     "metadata": {},
     "output_type": "execute_result"
    }
   ],
   "source": [
    "garment_dataset.isna().sum()"
   ]
  },
  {
   "cell_type": "code",
   "execution_count": 110,
   "id": "718bf1e0-95e2-4cf2-b448-01bb7b6bab32",
   "metadata": {},
   "outputs": [],
   "source": [
    "# filling missing values with the median"
   ]
  },
  {
   "cell_type": "code",
   "execution_count": 111,
   "id": "4f9c43db-f950-4395-a766-10a655cfb3e7",
   "metadata": {},
   "outputs": [],
   "source": [
    "garment_dataset_ = garment_dataset.fillna(garment_dataset['wip'].median(), inplace = True)"
   ]
  },
  {
   "cell_type": "code",
   "execution_count": 112,
   "id": "25b1b64a-5e3a-43d1-ac16-ccef2f0ebc52",
   "metadata": {},
   "outputs": [],
   "source": [
    "# renaming columns for better analysis"
   ]
  },
  {
   "cell_type": "code",
   "execution_count": 113,
   "id": "e477818b-80f7-4926-83fc-7118bd4c05f3",
   "metadata": {},
   "outputs": [],
   "source": [
    "# renamed_g_dataset_.rename(columns = {'smv':'standard minute value','wip':'work in progress'})"
   ]
  },
  {
   "cell_type": "code",
   "execution_count": 114,
   "id": "d7db12e6-ce21-4f4c-8dd1-39f130974b7a",
   "metadata": {},
   "outputs": [],
   "source": [
    "# checking for outliers"
   ]
  },
  {
   "cell_type": "code",
   "execution_count": 115,
   "id": "a4c1bd19-437e-4f1a-a230-0a95094a3f25",
   "metadata": {},
   "outputs": [
    {
     "data": {
      "text/html": [
       "<div>\n",
       "<style scoped>\n",
       "    .dataframe tbody tr th:only-of-type {\n",
       "        vertical-align: middle;\n",
       "    }\n",
       "\n",
       "    .dataframe tbody tr th {\n",
       "        vertical-align: top;\n",
       "    }\n",
       "\n",
       "    .dataframe thead th {\n",
       "        text-align: right;\n",
       "    }\n",
       "</style>\n",
       "<table border=\"1\" class=\"dataframe\">\n",
       "  <thead>\n",
       "    <tr style=\"text-align: right;\">\n",
       "      <th></th>\n",
       "      <th>team</th>\n",
       "      <th>targeted_productivity</th>\n",
       "      <th>smv</th>\n",
       "      <th>wip</th>\n",
       "      <th>over_time</th>\n",
       "      <th>incentive</th>\n",
       "      <th>idle_time</th>\n",
       "      <th>idle_men</th>\n",
       "      <th>no_of_style_change</th>\n",
       "      <th>no_of_workers</th>\n",
       "      <th>actual_productivity</th>\n",
       "    </tr>\n",
       "  </thead>\n",
       "  <tbody>\n",
       "    <tr>\n",
       "      <th>count</th>\n",
       "      <td>1197.000000</td>\n",
       "      <td>1197.000000</td>\n",
       "      <td>1197.000000</td>\n",
       "      <td>1197.000000</td>\n",
       "      <td>1197.000000</td>\n",
       "      <td>1197.000000</td>\n",
       "      <td>1197.000000</td>\n",
       "      <td>1197.000000</td>\n",
       "      <td>1197.000000</td>\n",
       "      <td>1197.000000</td>\n",
       "      <td>1197.000000</td>\n",
       "    </tr>\n",
       "    <tr>\n",
       "      <th>mean</th>\n",
       "      <td>6.426901</td>\n",
       "      <td>0.729632</td>\n",
       "      <td>15.062172</td>\n",
       "      <td>1126.437761</td>\n",
       "      <td>4567.460317</td>\n",
       "      <td>38.210526</td>\n",
       "      <td>0.730159</td>\n",
       "      <td>0.369256</td>\n",
       "      <td>0.150376</td>\n",
       "      <td>34.609858</td>\n",
       "      <td>0.735091</td>\n",
       "    </tr>\n",
       "    <tr>\n",
       "      <th>std</th>\n",
       "      <td>3.463963</td>\n",
       "      <td>0.097891</td>\n",
       "      <td>10.943219</td>\n",
       "      <td>1397.653191</td>\n",
       "      <td>3348.823563</td>\n",
       "      <td>160.182643</td>\n",
       "      <td>12.709757</td>\n",
       "      <td>3.268987</td>\n",
       "      <td>0.427848</td>\n",
       "      <td>22.197687</td>\n",
       "      <td>0.174488</td>\n",
       "    </tr>\n",
       "    <tr>\n",
       "      <th>min</th>\n",
       "      <td>1.000000</td>\n",
       "      <td>0.070000</td>\n",
       "      <td>2.900000</td>\n",
       "      <td>7.000000</td>\n",
       "      <td>0.000000</td>\n",
       "      <td>0.000000</td>\n",
       "      <td>0.000000</td>\n",
       "      <td>0.000000</td>\n",
       "      <td>0.000000</td>\n",
       "      <td>2.000000</td>\n",
       "      <td>0.233705</td>\n",
       "    </tr>\n",
       "    <tr>\n",
       "      <th>25%</th>\n",
       "      <td>3.000000</td>\n",
       "      <td>0.700000</td>\n",
       "      <td>3.940000</td>\n",
       "      <td>970.000000</td>\n",
       "      <td>1440.000000</td>\n",
       "      <td>0.000000</td>\n",
       "      <td>0.000000</td>\n",
       "      <td>0.000000</td>\n",
       "      <td>0.000000</td>\n",
       "      <td>9.000000</td>\n",
       "      <td>0.650307</td>\n",
       "    </tr>\n",
       "    <tr>\n",
       "      <th>50%</th>\n",
       "      <td>6.000000</td>\n",
       "      <td>0.750000</td>\n",
       "      <td>15.260000</td>\n",
       "      <td>1039.000000</td>\n",
       "      <td>3960.000000</td>\n",
       "      <td>0.000000</td>\n",
       "      <td>0.000000</td>\n",
       "      <td>0.000000</td>\n",
       "      <td>0.000000</td>\n",
       "      <td>34.000000</td>\n",
       "      <td>0.773333</td>\n",
       "    </tr>\n",
       "    <tr>\n",
       "      <th>75%</th>\n",
       "      <td>9.000000</td>\n",
       "      <td>0.800000</td>\n",
       "      <td>24.260000</td>\n",
       "      <td>1083.000000</td>\n",
       "      <td>6960.000000</td>\n",
       "      <td>50.000000</td>\n",
       "      <td>0.000000</td>\n",
       "      <td>0.000000</td>\n",
       "      <td>0.000000</td>\n",
       "      <td>57.000000</td>\n",
       "      <td>0.850253</td>\n",
       "    </tr>\n",
       "    <tr>\n",
       "      <th>max</th>\n",
       "      <td>12.000000</td>\n",
       "      <td>0.800000</td>\n",
       "      <td>54.560000</td>\n",
       "      <td>23122.000000</td>\n",
       "      <td>25920.000000</td>\n",
       "      <td>3600.000000</td>\n",
       "      <td>300.000000</td>\n",
       "      <td>45.000000</td>\n",
       "      <td>2.000000</td>\n",
       "      <td>89.000000</td>\n",
       "      <td>1.120437</td>\n",
       "    </tr>\n",
       "  </tbody>\n",
       "</table>\n",
       "</div>"
      ],
      "text/plain": [
       "              team  targeted_productivity          smv           wip  \\\n",
       "count  1197.000000            1197.000000  1197.000000   1197.000000   \n",
       "mean      6.426901               0.729632    15.062172   1126.437761   \n",
       "std       3.463963               0.097891    10.943219   1397.653191   \n",
       "min       1.000000               0.070000     2.900000      7.000000   \n",
       "25%       3.000000               0.700000     3.940000    970.000000   \n",
       "50%       6.000000               0.750000    15.260000   1039.000000   \n",
       "75%       9.000000               0.800000    24.260000   1083.000000   \n",
       "max      12.000000               0.800000    54.560000  23122.000000   \n",
       "\n",
       "          over_time    incentive    idle_time     idle_men  \\\n",
       "count   1197.000000  1197.000000  1197.000000  1197.000000   \n",
       "mean    4567.460317    38.210526     0.730159     0.369256   \n",
       "std     3348.823563   160.182643    12.709757     3.268987   \n",
       "min        0.000000     0.000000     0.000000     0.000000   \n",
       "25%     1440.000000     0.000000     0.000000     0.000000   \n",
       "50%     3960.000000     0.000000     0.000000     0.000000   \n",
       "75%     6960.000000    50.000000     0.000000     0.000000   \n",
       "max    25920.000000  3600.000000   300.000000    45.000000   \n",
       "\n",
       "       no_of_style_change  no_of_workers  actual_productivity  \n",
       "count         1197.000000    1197.000000          1197.000000  \n",
       "mean             0.150376      34.609858             0.735091  \n",
       "std              0.427848      22.197687             0.174488  \n",
       "min              0.000000       2.000000             0.233705  \n",
       "25%              0.000000       9.000000             0.650307  \n",
       "50%              0.000000      34.000000             0.773333  \n",
       "75%              0.000000      57.000000             0.850253  \n",
       "max              2.000000      89.000000             1.120437  "
      ]
     },
     "execution_count": 115,
     "metadata": {},
     "output_type": "execute_result"
    }
   ],
   "source": [
    "garment_dataset.describe()"
   ]
  },
  {
   "cell_type": "code",
   "execution_count": 116,
   "id": "ca4a0e55-0c03-4f0c-92f8-2d2e0c00e3f7",
   "metadata": {},
   "outputs": [],
   "source": [
    "# cleaning data by fixing spelling "
   ]
  },
  {
   "cell_type": "code",
   "execution_count": 117,
   "id": "003fe266-4606-476b-8084-0a90845353fa",
   "metadata": {},
   "outputs": [],
   "source": [
    "lst = []\n",
    "for change in range(len(garment_dataset['department'])):\n",
    "    if garment_dataset['department'][change] == 'sweing':\n",
    "        lst.append(\"sewing\")\n",
    "    elif garment_dataset['department'][change] == 'finishing ':\n",
    "        lst.append('finishing')\n",
    "    else:\n",
    "        lst.append(garment_dataset['department'][change])\n",
    "garment_dataset['department'] = lst"
   ]
  },
  {
   "cell_type": "code",
   "execution_count": 118,
   "id": "6f515350-f678-431a-ac74-acb26767a0e6",
   "metadata": {},
   "outputs": [
    {
     "data": {
      "text/html": [
       "<div>\n",
       "<style scoped>\n",
       "    .dataframe tbody tr th:only-of-type {\n",
       "        vertical-align: middle;\n",
       "    }\n",
       "\n",
       "    .dataframe tbody tr th {\n",
       "        vertical-align: top;\n",
       "    }\n",
       "\n",
       "    .dataframe thead th {\n",
       "        text-align: right;\n",
       "    }\n",
       "</style>\n",
       "<table border=\"1\" class=\"dataframe\">\n",
       "  <thead>\n",
       "    <tr style=\"text-align: right;\">\n",
       "      <th></th>\n",
       "      <th>date</th>\n",
       "      <th>quarter</th>\n",
       "      <th>department</th>\n",
       "      <th>day</th>\n",
       "      <th>team</th>\n",
       "      <th>targeted_productivity</th>\n",
       "      <th>smv</th>\n",
       "      <th>wip</th>\n",
       "      <th>over_time</th>\n",
       "      <th>incentive</th>\n",
       "      <th>idle_time</th>\n",
       "      <th>idle_men</th>\n",
       "      <th>no_of_style_change</th>\n",
       "      <th>no_of_workers</th>\n",
       "      <th>actual_productivity</th>\n",
       "    </tr>\n",
       "  </thead>\n",
       "  <tbody>\n",
       "    <tr>\n",
       "      <th>0</th>\n",
       "      <td>1/1/2015</td>\n",
       "      <td>Quarter1</td>\n",
       "      <td>sewing</td>\n",
       "      <td>Thursday</td>\n",
       "      <td>8</td>\n",
       "      <td>0.80</td>\n",
       "      <td>26.16</td>\n",
       "      <td>1108.0</td>\n",
       "      <td>7080</td>\n",
       "      <td>98</td>\n",
       "      <td>0.0</td>\n",
       "      <td>0</td>\n",
       "      <td>0</td>\n",
       "      <td>59.0</td>\n",
       "      <td>0.940725</td>\n",
       "    </tr>\n",
       "    <tr>\n",
       "      <th>1</th>\n",
       "      <td>1/1/2015</td>\n",
       "      <td>Quarter1</td>\n",
       "      <td>finishing</td>\n",
       "      <td>Thursday</td>\n",
       "      <td>1</td>\n",
       "      <td>0.75</td>\n",
       "      <td>3.94</td>\n",
       "      <td>1039.0</td>\n",
       "      <td>960</td>\n",
       "      <td>0</td>\n",
       "      <td>0.0</td>\n",
       "      <td>0</td>\n",
       "      <td>0</td>\n",
       "      <td>8.0</td>\n",
       "      <td>0.886500</td>\n",
       "    </tr>\n",
       "    <tr>\n",
       "      <th>2</th>\n",
       "      <td>1/1/2015</td>\n",
       "      <td>Quarter1</td>\n",
       "      <td>sewing</td>\n",
       "      <td>Thursday</td>\n",
       "      <td>11</td>\n",
       "      <td>0.80</td>\n",
       "      <td>11.41</td>\n",
       "      <td>968.0</td>\n",
       "      <td>3660</td>\n",
       "      <td>50</td>\n",
       "      <td>0.0</td>\n",
       "      <td>0</td>\n",
       "      <td>0</td>\n",
       "      <td>30.5</td>\n",
       "      <td>0.800570</td>\n",
       "    </tr>\n",
       "    <tr>\n",
       "      <th>3</th>\n",
       "      <td>1/1/2015</td>\n",
       "      <td>Quarter1</td>\n",
       "      <td>sewing</td>\n",
       "      <td>Thursday</td>\n",
       "      <td>12</td>\n",
       "      <td>0.80</td>\n",
       "      <td>11.41</td>\n",
       "      <td>968.0</td>\n",
       "      <td>3660</td>\n",
       "      <td>50</td>\n",
       "      <td>0.0</td>\n",
       "      <td>0</td>\n",
       "      <td>0</td>\n",
       "      <td>30.5</td>\n",
       "      <td>0.800570</td>\n",
       "    </tr>\n",
       "    <tr>\n",
       "      <th>4</th>\n",
       "      <td>1/1/2015</td>\n",
       "      <td>Quarter1</td>\n",
       "      <td>sewing</td>\n",
       "      <td>Thursday</td>\n",
       "      <td>6</td>\n",
       "      <td>0.80</td>\n",
       "      <td>25.90</td>\n",
       "      <td>1170.0</td>\n",
       "      <td>1920</td>\n",
       "      <td>50</td>\n",
       "      <td>0.0</td>\n",
       "      <td>0</td>\n",
       "      <td>0</td>\n",
       "      <td>56.0</td>\n",
       "      <td>0.800382</td>\n",
       "    </tr>\n",
       "    <tr>\n",
       "      <th>...</th>\n",
       "      <td>...</td>\n",
       "      <td>...</td>\n",
       "      <td>...</td>\n",
       "      <td>...</td>\n",
       "      <td>...</td>\n",
       "      <td>...</td>\n",
       "      <td>...</td>\n",
       "      <td>...</td>\n",
       "      <td>...</td>\n",
       "      <td>...</td>\n",
       "      <td>...</td>\n",
       "      <td>...</td>\n",
       "      <td>...</td>\n",
       "      <td>...</td>\n",
       "      <td>...</td>\n",
       "    </tr>\n",
       "    <tr>\n",
       "      <th>1192</th>\n",
       "      <td>3/11/2015</td>\n",
       "      <td>Quarter2</td>\n",
       "      <td>finishing</td>\n",
       "      <td>Wednesday</td>\n",
       "      <td>10</td>\n",
       "      <td>0.75</td>\n",
       "      <td>2.90</td>\n",
       "      <td>1039.0</td>\n",
       "      <td>960</td>\n",
       "      <td>0</td>\n",
       "      <td>0.0</td>\n",
       "      <td>0</td>\n",
       "      <td>0</td>\n",
       "      <td>8.0</td>\n",
       "      <td>0.628333</td>\n",
       "    </tr>\n",
       "    <tr>\n",
       "      <th>1193</th>\n",
       "      <td>3/11/2015</td>\n",
       "      <td>Quarter2</td>\n",
       "      <td>finishing</td>\n",
       "      <td>Wednesday</td>\n",
       "      <td>8</td>\n",
       "      <td>0.70</td>\n",
       "      <td>3.90</td>\n",
       "      <td>1039.0</td>\n",
       "      <td>960</td>\n",
       "      <td>0</td>\n",
       "      <td>0.0</td>\n",
       "      <td>0</td>\n",
       "      <td>0</td>\n",
       "      <td>8.0</td>\n",
       "      <td>0.625625</td>\n",
       "    </tr>\n",
       "    <tr>\n",
       "      <th>1194</th>\n",
       "      <td>3/11/2015</td>\n",
       "      <td>Quarter2</td>\n",
       "      <td>finishing</td>\n",
       "      <td>Wednesday</td>\n",
       "      <td>7</td>\n",
       "      <td>0.65</td>\n",
       "      <td>3.90</td>\n",
       "      <td>1039.0</td>\n",
       "      <td>960</td>\n",
       "      <td>0</td>\n",
       "      <td>0.0</td>\n",
       "      <td>0</td>\n",
       "      <td>0</td>\n",
       "      <td>8.0</td>\n",
       "      <td>0.625625</td>\n",
       "    </tr>\n",
       "    <tr>\n",
       "      <th>1195</th>\n",
       "      <td>3/11/2015</td>\n",
       "      <td>Quarter2</td>\n",
       "      <td>finishing</td>\n",
       "      <td>Wednesday</td>\n",
       "      <td>9</td>\n",
       "      <td>0.75</td>\n",
       "      <td>2.90</td>\n",
       "      <td>1039.0</td>\n",
       "      <td>1800</td>\n",
       "      <td>0</td>\n",
       "      <td>0.0</td>\n",
       "      <td>0</td>\n",
       "      <td>0</td>\n",
       "      <td>15.0</td>\n",
       "      <td>0.505889</td>\n",
       "    </tr>\n",
       "    <tr>\n",
       "      <th>1196</th>\n",
       "      <td>3/11/2015</td>\n",
       "      <td>Quarter2</td>\n",
       "      <td>finishing</td>\n",
       "      <td>Wednesday</td>\n",
       "      <td>6</td>\n",
       "      <td>0.70</td>\n",
       "      <td>2.90</td>\n",
       "      <td>1039.0</td>\n",
       "      <td>720</td>\n",
       "      <td>0</td>\n",
       "      <td>0.0</td>\n",
       "      <td>0</td>\n",
       "      <td>0</td>\n",
       "      <td>6.0</td>\n",
       "      <td>0.394722</td>\n",
       "    </tr>\n",
       "  </tbody>\n",
       "</table>\n",
       "<p>1197 rows × 15 columns</p>\n",
       "</div>"
      ],
      "text/plain": [
       "           date   quarter department        day  team  targeted_productivity  \\\n",
       "0      1/1/2015  Quarter1     sewing   Thursday     8                   0.80   \n",
       "1      1/1/2015  Quarter1  finishing   Thursday     1                   0.75   \n",
       "2      1/1/2015  Quarter1     sewing   Thursday    11                   0.80   \n",
       "3      1/1/2015  Quarter1     sewing   Thursday    12                   0.80   \n",
       "4      1/1/2015  Quarter1     sewing   Thursday     6                   0.80   \n",
       "...         ...       ...        ...        ...   ...                    ...   \n",
       "1192  3/11/2015  Quarter2  finishing  Wednesday    10                   0.75   \n",
       "1193  3/11/2015  Quarter2  finishing  Wednesday     8                   0.70   \n",
       "1194  3/11/2015  Quarter2  finishing  Wednesday     7                   0.65   \n",
       "1195  3/11/2015  Quarter2  finishing  Wednesday     9                   0.75   \n",
       "1196  3/11/2015  Quarter2  finishing  Wednesday     6                   0.70   \n",
       "\n",
       "        smv     wip  over_time  incentive  idle_time  idle_men  \\\n",
       "0     26.16  1108.0       7080         98        0.0         0   \n",
       "1      3.94  1039.0        960          0        0.0         0   \n",
       "2     11.41   968.0       3660         50        0.0         0   \n",
       "3     11.41   968.0       3660         50        0.0         0   \n",
       "4     25.90  1170.0       1920         50        0.0         0   \n",
       "...     ...     ...        ...        ...        ...       ...   \n",
       "1192   2.90  1039.0        960          0        0.0         0   \n",
       "1193   3.90  1039.0        960          0        0.0         0   \n",
       "1194   3.90  1039.0        960          0        0.0         0   \n",
       "1195   2.90  1039.0       1800          0        0.0         0   \n",
       "1196   2.90  1039.0        720          0        0.0         0   \n",
       "\n",
       "      no_of_style_change  no_of_workers  actual_productivity  \n",
       "0                      0           59.0             0.940725  \n",
       "1                      0            8.0             0.886500  \n",
       "2                      0           30.5             0.800570  \n",
       "3                      0           30.5             0.800570  \n",
       "4                      0           56.0             0.800382  \n",
       "...                  ...            ...                  ...  \n",
       "1192                   0            8.0             0.628333  \n",
       "1193                   0            8.0             0.625625  \n",
       "1194                   0            8.0             0.625625  \n",
       "1195                   0           15.0             0.505889  \n",
       "1196                   0            6.0             0.394722  \n",
       "\n",
       "[1197 rows x 15 columns]"
      ]
     },
     "execution_count": 118,
     "metadata": {},
     "output_type": "execute_result"
    }
   ],
   "source": [
    "garment_dataset"
   ]
  },
  {
   "cell_type": "code",
   "execution_count": 119,
   "id": "8a8b594c-9d8c-4975-b925-0e078a59f181",
   "metadata": {},
   "outputs": [],
   "source": [
    "# bar plot showing teams and their corresponding targeted productivity"
   ]
  },
  {
   "cell_type": "code",
   "execution_count": 120,
   "id": "f4ff812d-7989-46fc-84ca-52fb3cf86d89",
   "metadata": {},
   "outputs": [
    {
     "data": {
      "image/png": "[encoded data removed]",
      "text/plain": [
       "<Figure size 360x360 with 1 Axes>"
      ]
     },
     "metadata": {},
     "output_type": "display_data"
    }
   ],
   "source": [
    "sns.relplot(x=\"team\", y=\"targeted_productivity\", kind=\"line\", ci = None, data=garment_dataset);"
   ]
  },
  {
   "cell_type": "code",
   "execution_count": 121,
   "id": "add1a45e-a837-4598-8645-6a9ba0a89698",
   "metadata": {},
   "outputs": [],
   "source": [
    "# bar plot showing teams and their corresponding actual productivity"
   ]
  },
  {
   "cell_type": "code",
   "execution_count": 122,
   "id": "235d4a11-08c5-4609-ba27-3bca909490e8",
   "metadata": {},
   "outputs": [
    {
     "data": {
      "image/png": "[encoded data removed]",
      "text/plain": [
       "<Figure size 360x360 with 1 Axes>"
      ]
     },
     "metadata": {},
     "output_type": "display_data"
    }
   ],
   "source": [
    "sns.relplot(x=\"team\", y=\"actual_productivity\", kind=\"line\", ci=None,data=garment_dataset);"
   ]
  },
  {
   "cell_type": "code",
   "execution_count": 123,
   "id": "0e204193-33e7-42bd-8a61-28d1c8f972a8",
   "metadata": {},
   "outputs": [],
   "source": [
    "# bar chart showing each team and their corresponding targeted productivity"
   ]
  },
  {
   "cell_type": "code",
   "execution_count": 124,
   "id": "36a7572b-d34c-4107-98dd-dcce0609f4e5",
   "metadata": {},
   "outputs": [
    {
     "data": {
      "image/png": "[encoded data removed]",
      "text/plain": [
       "<Figure size 576x396 with 1 Axes>"
      ]
     },
     "metadata": {},
     "output_type": "display_data"
    }
   ],
   "source": [
    "ax = sns.barplot(x=\"team\", y=\"targeted_productivity\", data=garment_dataset)"
   ]
  },
  {
   "cell_type": "code",
   "execution_count": 125,
   "id": "527455fd-04c5-4c8e-8370-af9b13496673",
   "metadata": {},
   "outputs": [],
   "source": [
    "# bar chart showing each team and their corresponding actual productivity"
   ]
  },
  {
   "cell_type": "code",
   "execution_count": 126,
   "id": "bb39bb0e-967d-4e80-ab55-d0537cb38b4a",
   "metadata": {},
   "outputs": [
    {
     "data": {
      "image/png": "[encoded data removed]",
      "text/plain": [
       "<Figure size 576x396 with 1 Axes>"
      ]
     },
     "metadata": {},
     "output_type": "display_data"
    }
   ],
   "source": [
    "ax = sns.barplot(x=\"team\", y=\"actual_productivity\", data=garment_dataset)"
   ]
  },
  {
   "cell_type": "code",
   "execution_count": 127,
   "id": "fde7be66-9150-4096-a0eb-ff3cfb8c630b",
   "metadata": {},
   "outputs": [],
   "source": [
    "# bar plot showing how idle time affects the employee's targeted productivity"
   ]
  },
  {
   "cell_type": "code",
   "execution_count": 128,
   "id": "f0e5e9fc-56b7-4b74-ac80-c2a332b82a8e",
   "metadata": {},
   "outputs": [
    {
     "data": {
      "image/png": "[encoded data removed]",
      "text/plain": [
       "<Figure size 576x396 with 1 Axes>"
      ]
     },
     "metadata": {},
     "output_type": "display_data"
    }
   ],
   "source": [
    "ax = sns.barplot(x=\"idle_time\", y=\"targeted_productivity\", data=garment_dataset)"
   ]
  },
  {
   "cell_type": "code",
   "execution_count": 129,
   "id": "eb3c42d4-320e-4464-9553-5e23aa9fea99",
   "metadata": {},
   "outputs": [],
   "source": [
    "# bar plot showing how idle time affects the employees' actual productivity"
   ]
  },
  {
   "cell_type": "code",
   "execution_count": 130,
   "id": "58f7fdf3-87fa-4554-8544-b68a44f330a6",
   "metadata": {},
   "outputs": [
    {
     "data": {
      "image/png": "[encoded data removed]",
      "text/plain": [
       "<Figure size 576x396 with 1 Axes>"
      ]
     },
     "metadata": {},
     "output_type": "display_data"
    }
   ],
   "source": [
    "ax = sns.barplot(x=\"idle_time\", y=\"actual_productivity\", data=garment_dataset)"
   ]
  },
  {
   "cell_type": "code",
   "execution_count": 131,
   "id": "f30ac5ba-a00e-4cfd-a502-b4ea26b3e251",
   "metadata": {},
   "outputs": [],
   "source": [
    "# This is a bar plot showing each team's actual productivity for each quarter of the month."
   ]
  },
  {
   "cell_type": "code",
   "execution_count": 132,
   "id": "a7d05edd-1017-4f6d-abfa-ad3fe4fc3dd9",
   "metadata": {},
   "outputs": [
    {
     "data": {
      "image/png": "[encoded data removed]",
      "text/plain": [
       "<Figure size 1080x576 with 1 Axes>"
      ]
     },
     "metadata": {},
     "output_type": "display_data"
    }
   ],
   "source": [
    "plt.figure(figsize=(15,8))\n",
    "ax = sns.barplot(x=\"team\", y=\"actual_productivity\", hue=\"quarter\", data=garment_dataset)"
   ]
  },
  {
   "cell_type": "code",
   "execution_count": 133,
   "id": "16625f6b-538b-4f28-8b83-f1a71169a8b4",
   "metadata": {},
   "outputs": [
    {
     "data": {
      "text/html": [
       "<div>\n",
       "<style scoped>\n",
       "    .dataframe tbody tr th:only-of-type {\n",
       "        vertical-align: middle;\n",
       "    }\n",
       "\n",
       "    .dataframe tbody tr th {\n",
       "        vertical-align: top;\n",
       "    }\n",
       "\n",
       "    .dataframe thead th {\n",
       "        text-align: right;\n",
       "    }\n",
       "</style>\n",
       "<table border=\"1\" class=\"dataframe\">\n",
       "  <thead>\n",
       "    <tr style=\"text-align: right;\">\n",
       "      <th></th>\n",
       "      <th>team</th>\n",
       "      <th>targeted_productivity</th>\n",
       "      <th>smv</th>\n",
       "      <th>wip</th>\n",
       "      <th>over_time</th>\n",
       "      <th>incentive</th>\n",
       "      <th>idle_time</th>\n",
       "      <th>idle_men</th>\n",
       "      <th>no_of_style_change</th>\n",
       "      <th>no_of_workers</th>\n",
       "      <th>actual_productivity</th>\n",
       "    </tr>\n",
       "  </thead>\n",
       "  <tbody>\n",
       "    <tr>\n",
       "      <th>count</th>\n",
       "      <td>1197.000000</td>\n",
       "      <td>1197.000000</td>\n",
       "      <td>1197.000000</td>\n",
       "      <td>1197.000000</td>\n",
       "      <td>1197.000000</td>\n",
       "      <td>1197.000000</td>\n",
       "      <td>1197.000000</td>\n",
       "      <td>1197.000000</td>\n",
       "      <td>1197.000000</td>\n",
       "      <td>1197.000000</td>\n",
       "      <td>1197.000000</td>\n",
       "    </tr>\n",
       "    <tr>\n",
       "      <th>mean</th>\n",
       "      <td>6.426901</td>\n",
       "      <td>0.729632</td>\n",
       "      <td>15.062172</td>\n",
       "      <td>1126.437761</td>\n",
       "      <td>4567.460317</td>\n",
       "      <td>38.210526</td>\n",
       "      <td>0.730159</td>\n",
       "      <td>0.369256</td>\n",
       "      <td>0.150376</td>\n",
       "      <td>34.609858</td>\n",
       "      <td>0.735091</td>\n",
       "    </tr>\n",
       "    <tr>\n",
       "      <th>std</th>\n",
       "      <td>3.463963</td>\n",
       "      <td>0.097891</td>\n",
       "      <td>10.943219</td>\n",
       "      <td>1397.653191</td>\n",
       "      <td>3348.823563</td>\n",
       "      <td>160.182643</td>\n",
       "      <td>12.709757</td>\n",
       "      <td>3.268987</td>\n",
       "      <td>0.427848</td>\n",
       "      <td>22.197687</td>\n",
       "      <td>0.174488</td>\n",
       "    </tr>\n",
       "    <tr>\n",
       "      <th>min</th>\n",
       "      <td>1.000000</td>\n",
       "      <td>0.070000</td>\n",
       "      <td>2.900000</td>\n",
       "      <td>7.000000</td>\n",
       "      <td>0.000000</td>\n",
       "      <td>0.000000</td>\n",
       "      <td>0.000000</td>\n",
       "      <td>0.000000</td>\n",
       "      <td>0.000000</td>\n",
       "      <td>2.000000</td>\n",
       "      <td>0.233705</td>\n",
       "    </tr>\n",
       "    <tr>\n",
       "      <th>25%</th>\n",
       "      <td>3.000000</td>\n",
       "      <td>0.700000</td>\n",
       "      <td>3.940000</td>\n",
       "      <td>970.000000</td>\n",
       "      <td>1440.000000</td>\n",
       "      <td>0.000000</td>\n",
       "      <td>0.000000</td>\n",
       "      <td>0.000000</td>\n",
       "      <td>0.000000</td>\n",
       "      <td>9.000000</td>\n",
       "      <td>0.650307</td>\n",
       "    </tr>\n",
       "    <tr>\n",
       "      <th>50%</th>\n",
       "      <td>6.000000</td>\n",
       "      <td>0.750000</td>\n",
       "      <td>15.260000</td>\n",
       "      <td>1039.000000</td>\n",
       "      <td>3960.000000</td>\n",
       "      <td>0.000000</td>\n",
       "      <td>0.000000</td>\n",
       "      <td>0.000000</td>\n",
       "      <td>0.000000</td>\n",
       "      <td>34.000000</td>\n",
       "      <td>0.773333</td>\n",
       "    </tr>\n",
       "    <tr>\n",
       "      <th>75%</th>\n",
       "      <td>9.000000</td>\n",
       "      <td>0.800000</td>\n",
       "      <td>24.260000</td>\n",
       "      <td>1083.000000</td>\n",
       "      <td>6960.000000</td>\n",
       "      <td>50.000000</td>\n",
       "      <td>0.000000</td>\n",
       "      <td>0.000000</td>\n",
       "      <td>0.000000</td>\n",
       "      <td>57.000000</td>\n",
       "      <td>0.850253</td>\n",
       "    </tr>\n",
       "    <tr>\n",
       "      <th>max</th>\n",
       "      <td>12.000000</td>\n",
       "      <td>0.800000</td>\n",
       "      <td>54.560000</td>\n",
       "      <td>23122.000000</td>\n",
       "      <td>25920.000000</td>\n",
       "      <td>3600.000000</td>\n",
       "      <td>300.000000</td>\n",
       "      <td>45.000000</td>\n",
       "      <td>2.000000</td>\n",
       "      <td>89.000000</td>\n",
       "      <td>1.120437</td>\n",
       "    </tr>\n",
       "  </tbody>\n",
       "</table>\n",
       "</div>"
      ],
      "text/plain": [
       "              team  targeted_productivity          smv           wip  \\\n",
       "count  1197.000000            1197.000000  1197.000000   1197.000000   \n",
       "mean      6.426901               0.729632    15.062172   1126.437761   \n",
       "std       3.463963               0.097891    10.943219   1397.653191   \n",
       "min       1.000000               0.070000     2.900000      7.000000   \n",
       "25%       3.000000               0.700000     3.940000    970.000000   \n",
       "50%       6.000000               0.750000    15.260000   1039.000000   \n",
       "75%       9.000000               0.800000    24.260000   1083.000000   \n",
       "max      12.000000               0.800000    54.560000  23122.000000   \n",
       "\n",
       "          over_time    incentive    idle_time     idle_men  \\\n",
       "count   1197.000000  1197.000000  1197.000000  1197.000000   \n",
       "mean    4567.460317    38.210526     0.730159     0.369256   \n",
       "std     3348.823563   160.182643    12.709757     3.268987   \n",
       "min        0.000000     0.000000     0.000000     0.000000   \n",
       "25%     1440.000000     0.000000     0.000000     0.000000   \n",
       "50%     3960.000000     0.000000     0.000000     0.000000   \n",
       "75%     6960.000000    50.000000     0.000000     0.000000   \n",
       "max    25920.000000  3600.000000   300.000000    45.000000   \n",
       "\n",
       "       no_of_style_change  no_of_workers  actual_productivity  \n",
       "count         1197.000000    1197.000000          1197.000000  \n",
       "mean             0.150376      34.609858             0.735091  \n",
       "std              0.427848      22.197687             0.174488  \n",
       "min              0.000000       2.000000             0.233705  \n",
       "25%              0.000000       9.000000             0.650307  \n",
       "50%              0.000000      34.000000             0.773333  \n",
       "75%              0.000000      57.000000             0.850253  \n",
       "max              2.000000      89.000000             1.120437  "
      ]
     },
     "execution_count": 133,
     "metadata": {},
     "output_type": "execute_result"
    }
   ],
   "source": [
    "garment_dataset.describe()"
   ]
  },
  {
   "cell_type": "code",
   "execution_count": 134,
   "id": "cebc01a9-ccf7-4836-b7fa-ffe74a335054",
   "metadata": {},
   "outputs": [],
   "source": [
    "# sns.boxplot(x=\"actual_productivity\",data=renamed_g_dataset)"
   ]
  },
  {
   "cell_type": "code",
   "execution_count": 135,
   "id": "8a4f1444-6327-4931-9a30-0424420ac271",
   "metadata": {},
   "outputs": [],
   "source": [
    "# Q1 = renamed_g_dataset['targeted_productivity'].quantisns.boxplot(x=\"actual_productivity\",data=renamed_g_dataset)le(.50)\n",
    "# Q3 = renamed_g_dataset['targeted_productivity'].quantile(.75)\n",
    "# Q2 = renamed_g_dataset['targeted_productivity'].quantile(.25)\n",
    "\n",
    "# IQR = Q3 - Q1\n",
    "\n",
    "# upper = Q3 - 1.5*IQR\n",
    "# lower = Q1 - 1.5*IQR\n",
    "\n",
    "# print(upper, lower)"
   ]
  },
  {
   "cell_type": "code",
   "execution_count": 136,
   "id": "427d801e-8840-4909-afa8-c82d83e875e4",
   "metadata": {},
   "outputs": [],
   "source": [
    "# fixing the outliers by filling with the median where necessary."
   ]
  },
  {
   "cell_type": "code",
   "execution_count": 137,
   "id": "e94bd241-3ca5-4dcf-9a74-e994695615a0",
   "metadata": {},
   "outputs": [],
   "source": [
    "garment_dataset['targeted_productivity'] = np.where(garment_dataset['targeted_productivity'] > 0.800000, 0.750000, garment_dataset['targeted_productivity'])\n",
    "garment_dataset['wip'] = np.where(garment_dataset['wip'] < 970.000000, 1039.000000, garment_dataset['wip'])\n",
    "garment_dataset['over_time'] = np.where(garment_dataset['over_time'] < 1440.000000, 3960.000000, garment_dataset['over_time'])"
   ]
  },
  {
   "cell_type": "code",
   "execution_count": 138,
   "id": "f4e94809-2981-488e-8d22-dc730a8319ad",
   "metadata": {},
   "outputs": [],
   "source": [
    "# dropping unnecessary columns for this analysis"
   ]
  },
  {
   "cell_type": "code",
   "execution_count": 139,
   "id": "9c7f64d9-f0df-4125-acc9-b74af7408265",
   "metadata": {},
   "outputs": [],
   "source": [
    "my_g_dataset=garment_dataset.drop(columns=['date', 'quarter', 'department', 'day','idle_men','no_of_workers','idle_time','no_of_style_change'])"
   ]
  },
  {
   "cell_type": "code",
   "execution_count": 140,
   "id": "231fad5b-7298-49a7-a225-3c0cb8a83b90",
   "metadata": {},
   "outputs": [],
   "source": [
    "# splitting my variables into dependent and independent variables "
   ]
  },
  {
   "cell_type": "code",
   "execution_count": 141,
   "id": "7c19ebc4-d78c-4b0e-89eb-7eb469bb5775",
   "metadata": {},
   "outputs": [],
   "source": [
    "y = my_g_dataset['actual_productivity']\n",
    "x = my_g_dataset.drop(columns = ['actual_productivity'])\n"
   ]
  },
  {
   "cell_type": "code",
   "execution_count": 142,
   "id": "f82e086e-ba9c-4e6f-af38-fd3085f5f1b9",
   "metadata": {},
   "outputs": [],
   "source": [
    "# using the variance inflation factor to check for multicollinearity"
   ]
  },
  {
   "cell_type": "code",
   "execution_count": 143,
   "id": "5f060d01-d638-4080-8e37-1b06104863f2",
   "metadata": {},
   "outputs": [],
   "source": [
    "def calcu_mult(df):\n",
    "    vif = pd.DataFrame()\n",
    "    vif[\"variables\"] = x.columns\n",
    "    vif[\"VIF\"] = [variance_inflation_factor(x.values, i) for i in range(x.shape[1])]\n",
    "\n",
    "    return vif"
   ]
  },
  {
   "cell_type": "code",
   "execution_count": 144,
   "id": "472d2887-e58a-4174-80a9-fcf2c55cbec5",
   "metadata": {},
   "outputs": [
    {
     "data": {
      "text/html": [
       "<div>\n",
       "<style scoped>\n",
       "    .dataframe tbody tr th:only-of-type {\n",
       "        vertical-align: middle;\n",
       "    }\n",
       "\n",
       "    .dataframe tbody tr th {\n",
       "        vertical-align: top;\n",
       "    }\n",
       "\n",
       "    .dataframe thead th {\n",
       "        text-align: right;\n",
       "    }\n",
       "</style>\n",
       "<table border=\"1\" class=\"dataframe\">\n",
       "  <thead>\n",
       "    <tr style=\"text-align: right;\">\n",
       "      <th></th>\n",
       "      <th>variables</th>\n",
       "      <th>VIF</th>\n",
       "    </tr>\n",
       "  </thead>\n",
       "  <tbody>\n",
       "    <tr>\n",
       "      <th>0</th>\n",
       "      <td>team</td>\n",
       "      <td>4.265370</td>\n",
       "    </tr>\n",
       "    <tr>\n",
       "      <th>1</th>\n",
       "      <td>targeted_productivity</td>\n",
       "      <td>7.997377</td>\n",
       "    </tr>\n",
       "    <tr>\n",
       "      <th>2</th>\n",
       "      <td>smv</td>\n",
       "      <td>4.819813</td>\n",
       "    </tr>\n",
       "    <tr>\n",
       "      <th>3</th>\n",
       "      <td>wip</td>\n",
       "      <td>1.800480</td>\n",
       "    </tr>\n",
       "    <tr>\n",
       "      <th>4</th>\n",
       "      <td>over_time</td>\n",
       "      <td>7.090233</td>\n",
       "    </tr>\n",
       "    <tr>\n",
       "      <th>5</th>\n",
       "      <td>incentive</td>\n",
       "      <td>1.062476</td>\n",
       "    </tr>\n",
       "  </tbody>\n",
       "</table>\n",
       "</div>"
      ],
      "text/plain": [
       "               variables       VIF\n",
       "0                   team  4.265370\n",
       "1  targeted_productivity  7.997377\n",
       "2                    smv  4.819813\n",
       "3                    wip  1.800480\n",
       "4              over_time  7.090233\n",
       "5              incentive  1.062476"
      ]
     },
     "execution_count": 144,
     "metadata": {},
     "output_type": "execute_result"
    }
   ],
   "source": [
    "calcu_mult(my_g_dataset)"
   ]
  },
  {
   "cell_type": "code",
   "execution_count": 145,
   "id": "f51b62dd-1719-4ccb-a5ca-2d2e2bfb1672",
   "metadata": {},
   "outputs": [],
   "source": [
    "# Using heatmap to check for relationship between dependent and independent variables"
   ]
  },
  {
   "cell_type": "code",
   "execution_count": 146,
   "id": "56e617d4-891e-455b-b954-cee146fea3fa",
   "metadata": {},
   "outputs": [
    {
     "data": {
      "text/plain": [
       "<AxesSubplot:>"
      ]
     },
     "execution_count": 146,
     "metadata": {},
     "output_type": "execute_result"
    },
    {
     "data": {
      "image/png": "[encoded data removed]",
      "text/plain": [
       "<Figure size 1080x720 with 2 Axes>"
      ]
     },
     "metadata": {},
     "output_type": "display_data"
    }
   ],
   "source": [
    "plt.figure(figsize=(15,10))\n",
    "sns.heatmap(my_g_dataset.corr(), annot=True)"
   ]
  },
  {
   "cell_type": "code",
   "execution_count": 147,
   "id": "4b9ceb2c-d15d-492d-90f8-da9aace86d53",
   "metadata": {},
   "outputs": [],
   "source": [
    "# splitting dataset into train and test"
   ]
  },
  {
   "cell_type": "code",
   "execution_count": 148,
   "id": "d4428e74-40be-452b-a1ce-60c909aa0d12",
   "metadata": {},
   "outputs": [],
   "source": [
    "X_train, X_test, y_train, y_test = train_test_split(x, y, test_size=.20, random_state=45)"
   ]
  },
  {
   "cell_type": "code",
   "execution_count": 149,
   "id": "c373f971-073c-4328-aceb-c6ff3c3d6df1",
   "metadata": {},
   "outputs": [],
   "source": [
    "# normalizing dataset to avoid bias."
   ]
  },
  {
   "cell_type": "code",
   "execution_count": 150,
   "id": "304e147b-dcb0-4e8e-b420-4415c3aa890c",
   "metadata": {},
   "outputs": [],
   "source": [
    "normalizer = MinMaxScaler()\n",
    "norm_X = pd.DataFrame(normalizer.fit_transform(X_train))"
   ]
  },
  {
   "cell_type": "code",
   "execution_count": 151,
   "id": "7fa06263-e363-4b82-9ea8-207bfe899b64",
   "metadata": {},
   "outputs": [],
   "source": [
    "# splitting the normalized dataset to enable validation "
   ]
  },
  {
   "cell_type": "code",
   "execution_count": 152,
   "id": "7595dc5d-dbd4-4c06-b0e1-37a0cfaa7d7b",
   "metadata": {},
   "outputs": [],
   "source": [
    "X_train_, X_val_test, y_train_, y_val_test = train_test_split(norm_X, y_train, test_size=0.25, random_state=1)"
   ]
  },
  {
   "cell_type": "code",
   "execution_count": 153,
   "id": "912a25fc-2f48-4b72-8c32-4ccf807aa329",
   "metadata": {},
   "outputs": [],
   "source": [
    "# using the random forest regressor model to show the most important features "
   ]
  },
  {
   "cell_type": "code",
   "execution_count": 154,
   "id": "50deafb4-1ceb-44a4-b92d-34561d0056e9",
   "metadata": {},
   "outputs": [
    {
     "data": {
      "text/plain": [
       "RandomForestRegressor(max_depth=4, random_state=1)"
      ]
     },
     "execution_count": 154,
     "metadata": {},
     "output_type": "execute_result"
    }
   ],
   "source": [
    "model = RandomForestRegressor(random_state=1, max_depth=4)\n",
    "model.fit(X_train_, y_train_)"
   ]
  },
  {
   "cell_type": "code",
   "execution_count": 155,
   "id": "7891f9c3-5738-4ea4-8ce3-7b0645fbe551",
   "metadata": {},
   "outputs": [
    {
     "data": {
      "image/png": "[encoded data removed]",
      "text/plain": [
       "<Figure size 576x396 with 1 Axes>"
      ]
     },
     "metadata": {},
     "output_type": "display_data"
    }
   ],
   "source": [
    "features = norm_X.columns\n",
    "importances = model.feature_importances_\n",
    "indices = np.argsort(importances)[-10:]\n",
    "plt.title('Feature Importances')\n",
    "plt.barh(range(len(indices)), importances[indices], color='b', align='center')\n",
    "plt.yticks(range(len(indices)), [features[i] for i in indices])\n",
    "plt.xlabel('Relative Importance')\n",
    "plt.show()"
   ]
  },
  {
   "cell_type": "code",
   "execution_count": 156,
   "id": "139df972-6da7-4b21-b358-59e28c9c00a0",
   "metadata": {},
   "outputs": [],
   "source": [
    "# using the principle component analysis model to also display the most important features"
   ]
  },
  {
   "cell_type": "code",
   "execution_count": 157,
   "id": "fa44670e-4bce-400b-b078-3e5730853a90",
   "metadata": {},
   "outputs": [
    {
     "name": "stdout",
     "output_type": "stream",
     "text": [
      "[0.56117373 0.27589141 0.09221658 0.03882036 0.02781325 0.00408468]\n",
      "[8.61986327 6.04394913 3.49426794 2.26715644 1.91901141 0.73541159]\n"
     ]
    }
   ],
   "source": [
    "pca = PCA(n_components = 6)\n",
    "pca_model = pca.fit(X_train_)\n",
    "PCA(n_components = 6)\n",
    "print(pca_model.explained_variance_ratio_)\n",
    "print(pca_model.singular_values_)"
   ]
  },
  {
   "cell_type": "code",
   "execution_count": 158,
   "id": "4a7c924d-b296-49af-8d73-cdb082bd6695",
   "metadata": {},
   "outputs": [
    {
     "data": {
      "image/png": "[encoded data removed]",
      "text/plain": [
       "<Figure size 576x396 with 1 Axes>"
      ]
     },
     "metadata": {},
     "output_type": "display_data"
    }
   ],
   "source": [
    "features = my_g_dataset.columns\n",
    "importances = pca_model.singular_values_\n",
    "indices = np.argsort(importances)[-8:]\n",
    "plt.title('Feature Importances')\n",
    "plt.barh(range(len(indices)), importances[indices], color='b', align='center')\n",
    "plt.yticks(range(len(indices)), [features[i] for i in indices])\n",
    "plt.xlabel('Relative Importance')\n",
    "plt.show()"
   ]
  },
  {
   "cell_type": "code",
   "execution_count": 159,
   "id": "f4921f3d-f8c3-4448-9a14-cd12f4595cc0",
   "metadata": {},
   "outputs": [
    {
     "data": {
      "image/png": "[encoded data removed]",
      "text/plain": [
       "<Figure size 576x396 with 1 Axes>"
      ]
     },
     "metadata": {},
     "output_type": "display_data"
    }
   ],
   "source": [
    "features = my_g_dataset.columns\n",
    "importances = pca_model.explained_variance_ratio_\n",
    "indices = np.argsort(importances)[-8:]\n",
    "plt.title('Feature Importances')\n",
    "plt.barh(range(len(indices)), importances[indices], color='b', align='center')\n",
    "plt.yticks(range(len(indices)), [features[i] for i in indices])\n",
    "plt.xlabel('Relative Importance')\n",
    "plt.show()"
   ]
  },
  {
   "cell_type": "code",
   "execution_count": 160,
   "id": "ec24eb7a-176e-43cb-af85-1f6fe03f7dc4",
   "metadata": {},
   "outputs": [],
   "source": [
    "# fitting normalized data into the Linear Regression model"
   ]
  },
  {
   "cell_type": "code",
   "execution_count": 161,
   "id": "5e05057b-a1da-4bb8-acde-44ff8f6a8d19",
   "metadata": {},
   "outputs": [],
   "source": [
    "ln_model = LinearRegression()\n",
    "ln_result = ln_model.fit(X_train_, y_train_)"
   ]
  },
  {
   "cell_type": "code",
   "execution_count": 162,
   "id": "f26f8c77-33ae-4726-b917-8184b141bb04",
   "metadata": {},
   "outputs": [],
   "source": [
    "# getting the r squared score"
   ]
  },
  {
   "cell_type": "code",
   "execution_count": 163,
   "id": "62f7bdac-e960-4dad-a141-8973855e00a4",
   "metadata": {},
   "outputs": [
    {
     "data": {
      "text/plain": [
       "0.2569844422055254"
      ]
     },
     "execution_count": 163,
     "metadata": {},
     "output_type": "execute_result"
    }
   ],
   "source": [
    "coef_deter = ln_result.score(X_train_, y_train_)\n",
    "coef_deter"
   ]
  },
  {
   "cell_type": "code",
   "execution_count": 164,
   "id": "36b98744-b8ab-48c2-895c-60f687288a73",
   "metadata": {},
   "outputs": [],
   "source": [
    "# getting the adjusted r squared score"
   ]
  },
  {
   "cell_type": "code",
   "execution_count": 165,
   "id": "b9904bf0-73e4-4da1-bc42-7141e4a4c92c",
   "metadata": {},
   "outputs": [
    {
     "data": {
      "text/plain": [
       "0.2507054374917693"
      ]
     },
     "execution_count": 165,
     "metadata": {},
     "output_type": "execute_result"
    }
   ],
   "source": [
    "1 - (1-ln_result.score(X_train_,y_train_))*(len(y_train_)-1)/(len(y_train_)-X_train_.shape[1]-1)"
   ]
  },
  {
   "cell_type": "code",
   "execution_count": 166,
   "id": "d714d38a-dd8a-4a5a-ad1f-a10bfad13858",
   "metadata": {},
   "outputs": [],
   "source": [
    "# getting the intercept"
   ]
  },
  {
   "cell_type": "code",
   "execution_count": 167,
   "id": "69bc7405-f492-4931-86fe-bd5d96367de7",
   "metadata": {},
   "outputs": [
    {
     "data": {
      "text/plain": [
       "array([-0.0988869 ,  0.57649929, -0.12686043,  0.11998306,  0.03721733,\n",
       "        0.40207798])"
      ]
     },
     "execution_count": 167,
     "metadata": {},
     "output_type": "execute_result"
    }
   ],
   "source": [
    "intercept = ln_result.coef_\n",
    "intercept"
   ]
  },
  {
   "cell_type": "code",
   "execution_count": 168,
   "id": "9ec4a174-4f28-45cf-a17d-19ff75878c74",
   "metadata": {},
   "outputs": [],
   "source": [
    "# predicting the output using the normalized test"
   ]
  },
  {
   "cell_type": "code",
   "execution_count": 169,
   "id": "295b00dc-fb94-48ea-920f-453c1fd497e6",
   "metadata": {},
   "outputs": [],
   "source": [
    "y_predict = ln_result.predict(X_val_test)\n"
   ]
  },
  {
   "cell_type": "code",
   "execution_count": 170,
   "id": "708c7354-54ad-4e32-8eba-fc2376fff745",
   "metadata": {},
   "outputs": [],
   "source": [
    "# checking for the errors "
   ]
  },
  {
   "cell_type": "code",
   "execution_count": 171,
   "id": "36ee285f-e329-4313-9fc7-3862a9ca2558",
   "metadata": {},
   "outputs": [
    {
     "name": "stdout",
     "output_type": "stream",
     "text": [
      "MAE :  0.11618341587614815\n",
      "MSE :  0.027941725584227962\n",
      "R2 score :  0.1031966555033128\n"
     ]
    }
   ],
   "source": [
    "print(\"MAE : \",mean_absolute_error(y_val_test, y_predict))\n",
    "print(\"MSE : \",mean_squared_error(y_val_test, y_predict))\n",
    "print(\"R2 score : \",r2_score(y_val_test, y_predict))"
   ]
  },
  {
   "cell_type": "code",
   "execution_count": 172,
   "id": "2648ee6a-5491-432b-a72a-82b2f817c733",
   "metadata": {},
   "outputs": [],
   "source": [
    "# plotting histogram to show model performance"
   ]
  },
  {
   "cell_type": "code",
   "execution_count": 173,
   "id": "58b2c526-cbb4-432f-b081-2b3582d38256",
   "metadata": {},
   "outputs": [
    {
     "data": {
      "image/png": "[encoded data removed]",
      "text/plain": [
       "<Figure size 576x396 with 2 Axes>"
      ]
     },
     "metadata": {},
     "output_type": "display_data"
    },
    {
     "data": {
      "text/plain": [
       "<AxesSubplot:title={'center':'Residuals for LinearRegression Model'}, xlabel='Predicted Value', ylabel='Residuals'>"
      ]
     },
     "execution_count": 173,
     "metadata": {},
     "output_type": "execute_result"
    }
   ],
   "source": [
    "model_ = LinearRegression()\n",
    "visualizer = ResidualsPlot(model_, hist=True, qqplot=False)\n",
    "\n",
    "visualizer.fit(X_train_, y_train_)  \n",
    "visualizer.score(X_val_test, y_val_test)  \n",
    "visualizer.show()"
   ]
  }
 ],
 "metadata": {
  "kernelspec": {
   "display_name": "Python 3 (ipykernel)",
   "language": "python",
   "name": "python3"
  },
  "language_info": {
   "codemirror_mode": {
    "name": "ipython",
    "version": 3
   },
   "file_extension": ".py",
   "mimetype": "text/x-python",
   "name": "python",
   "nbconvert_exporter": "python",
   "pygments_lexer": "ipython3",
   "version": "3.8.10"
  }
 },
 "nbformat": 4,
 "nbformat_minor": 5
}
